{
 "cells": [
  {
   "cell_type": "code",
   "execution_count": 1,
   "metadata": {},
   "outputs": [],
   "source": [
    "from Environment import GridWorld\n",
    "import numpy as np\n",
    "import random\n",
    "import matplotlib.pyplot as plt\n",
    "import sys"
   ]
  },
  {
   "cell_type": "code",
   "execution_count": 2,
   "metadata": {},
   "outputs": [],
   "source": [
    "env = GridWorld((10,10),0)\n",
    "reward_grid = env.reset_Qlearning()\n",
    "q_table = np.zeros((env.observation_space, env.action_space))"
   ]
  },
  {
   "cell_type": "code",
   "execution_count": 3,
   "metadata": {},
   "outputs": [
    {
     "name": "stdout",
     "output_type": "stream",
     "text": [
      "Episode 278 completed with total reward -170 in 734 steps.                                               \r"
     ]
    },
    {
     "ename": "KeyboardInterrupt",
     "evalue": "",
     "output_type": "error",
     "traceback": [
      "\u001b[1;31m---------------------------------------------------------------------------\u001b[0m",
      "\u001b[1;31mKeyboardInterrupt\u001b[0m                         Traceback (most recent call last)",
      "\u001b[1;32m~\\AppData\\Local\\Temp/ipykernel_1344/3122023964.py\u001b[0m in \u001b[0;36m<module>\u001b[1;34m\u001b[0m\n\u001b[0;32m     61\u001b[0m             \u001b[0mnext_state\u001b[0m \u001b[1;33m=\u001b[0m \u001b[1;33m(\u001b[0m\u001b[0mstate\u001b[0m\u001b[1;33m[\u001b[0m\u001b[1;36m0\u001b[0m\u001b[1;33m]\u001b[0m\u001b[1;33m,\u001b[0m \u001b[0mmin\u001b[0m\u001b[1;33m(\u001b[0m\u001b[0mgrid_world\u001b[0m\u001b[1;33m.\u001b[0m\u001b[0mshape\u001b[0m\u001b[1;33m[\u001b[0m\u001b[1;36m1\u001b[0m\u001b[1;33m]\u001b[0m \u001b[1;33m-\u001b[0m \u001b[1;36m1\u001b[0m\u001b[1;33m,\u001b[0m \u001b[0mstate\u001b[0m\u001b[1;33m[\u001b[0m\u001b[1;36m1\u001b[0m\u001b[1;33m]\u001b[0m \u001b[1;33m+\u001b[0m \u001b[1;36m1\u001b[0m\u001b[1;33m)\u001b[0m\u001b[1;33m)\u001b[0m\u001b[1;33m\u001b[0m\u001b[1;33m\u001b[0m\u001b[0m\n\u001b[0;32m     62\u001b[0m \u001b[1;33m\u001b[0m\u001b[0m\n\u001b[1;32m---> 63\u001b[1;33m         \u001b[0mnext_state_index\u001b[0m \u001b[1;33m=\u001b[0m \u001b[0mstate_to_index\u001b[0m\u001b[1;33m(\u001b[0m\u001b[0mnext_state\u001b[0m\u001b[1;33m)\u001b[0m\u001b[1;33m\u001b[0m\u001b[1;33m\u001b[0m\u001b[0m\n\u001b[0m\u001b[0;32m     64\u001b[0m \u001b[1;33m\u001b[0m\u001b[0m\n\u001b[0;32m     65\u001b[0m         \u001b[1;31m# Define rewards based on the grid-world environment\u001b[0m\u001b[1;33m\u001b[0m\u001b[1;33m\u001b[0m\u001b[0m\n",
      "\u001b[1;32m~\\AppData\\Local\\Temp/ipykernel_1344/3122023964.py\u001b[0m in \u001b[0;36mstate_to_index\u001b[1;34m(state)\u001b[0m\n\u001b[0;32m      5\u001b[0m \u001b[1;31m# Convert grid-world positions to state indices\u001b[0m\u001b[1;33m\u001b[0m\u001b[1;33m\u001b[0m\u001b[0m\n\u001b[0;32m      6\u001b[0m \u001b[1;32mdef\u001b[0m \u001b[0mstate_to_index\u001b[0m\u001b[1;33m(\u001b[0m\u001b[0mstate\u001b[0m\u001b[1;33m)\u001b[0m\u001b[1;33m:\u001b[0m\u001b[1;33m\u001b[0m\u001b[1;33m\u001b[0m\u001b[0m\n\u001b[1;32m----> 7\u001b[1;33m     \u001b[1;32mreturn\u001b[0m \u001b[0mnp\u001b[0m\u001b[1;33m.\u001b[0m\u001b[0mravel_multi_index\u001b[0m\u001b[1;33m(\u001b[0m\u001b[0mstate\u001b[0m\u001b[1;33m,\u001b[0m \u001b[0mdims\u001b[0m\u001b[1;33m=\u001b[0m\u001b[0mgrid_world\u001b[0m\u001b[1;33m.\u001b[0m\u001b[0mshape\u001b[0m\u001b[1;33m)\u001b[0m\u001b[1;33m\u001b[0m\u001b[1;33m\u001b[0m\u001b[0m\n\u001b[0m\u001b[0;32m      8\u001b[0m \u001b[1;33m\u001b[0m\u001b[0m\n\u001b[0;32m      9\u001b[0m \u001b[1;33m\u001b[0m\u001b[0m\n",
      "\u001b[1;32mc:\\Users\\cg170794\\AppData\\Local\\Programs\\Python\\Python310\\lib\\site-packages\\numpy\\core\\overrides.py\u001b[0m in \u001b[0;36mravel_multi_index\u001b[1;34m(*args, **kwargs)\u001b[0m\n",
      "\u001b[1;31mKeyboardInterrupt\u001b[0m: "
     ]
    }
   ],
   "source": [
    "discount_factor = 0.98\n",
    "num_episodes = 10000\n",
    "max_steps_per_episode = reward_grid.shape[0] * reward_grid.shape[1] * 10\n",
    "min_stepsl = []\n",
    "# Convert grid-world positions to state indices\n",
    "def state_to_index(state):\n",
    "    return np.ravel_multi_index(state, dims=grid_world.shape)\n",
    "\n",
    "\n",
    "def valid_actions(index,action):\n",
    "    if action == 0:\n",
    "        if index[0] == 0:\n",
    "            return False\n",
    "        else:\n",
    "            return True\n",
    "    elif action == 1:\n",
    "        if index[0] == reward_grid.shape[0] - 1:\n",
    "            return False\n",
    "        else:\n",
    "            return True\n",
    "    elif action == 2:\n",
    "        if index[1] == 0:\n",
    "            return False\n",
    "        else:\n",
    "            return True\n",
    "    elif action == 3:\n",
    "        if index[1] == reward_grid.shape[1] - 1:\n",
    "            return False\n",
    "        else:\n",
    "            return True\n",
    "steps = []\n",
    "min_steps = max_steps_per_episode\n",
    "\n",
    "# Q-learning algorithm\n",
    "for episode in range(num_episodes):\n",
    "    exploration_prob = max(0.01, min(1.0, 1.0 - episode / num_episodes))\n",
    "    learning_rate = 0.1\n",
    "    state = (0, 0)\n",
    "    grid_world = np.zeros(reward_grid.shape)\n",
    "    grid_world[state] = 1\n",
    "    state_index = state_to_index(state)\n",
    "    done = False\n",
    "    episode_reward = 0\n",
    "    for step in range(max_steps_per_episode):\n",
    "        # Epsilon-greedy policy for action selection\n",
    "        if random.uniform(0, 1) < exploration_prob:\n",
    "            action = random.randint(0, 3)  # Exploration\n",
    "        else:\n",
    "            action = np.argmax(q_table[state_index, :])  # Exploitation\n",
    "        if not valid_actions(state,action):\n",
    "                reward = -10\n",
    "\n",
    "        # Take the action and observe the next state and reward\n",
    "        if action == 0:  # Up\n",
    "            next_state = (max(0, state[0] - 1), state[1])\n",
    "        elif action == 1:  # Down\n",
    "            next_state = (min(grid_world.shape[0] - 1, state[0] + 1), state[1])\n",
    "        elif action == 2:  # Left\n",
    "            next_state = (state[0], max(0, state[1] - 1))\n",
    "        else:  # Right\n",
    "            next_state = (state[0], min(grid_world.shape[1] - 1, state[1] + 1))\n",
    "\n",
    "        next_state_index = state_to_index(next_state)\n",
    "\n",
    "        # Define rewards based on the grid-world environment\n",
    "        if grid_world[next_state] == 0:\n",
    "            reward = 2\n",
    "            grid_world[next_state] = 1\n",
    "        elif grid_world[next_state] == 1:\n",
    "            reward =  - 1\n",
    "        \n",
    "        if grid_world.all() == 1:\n",
    "            reward += max_steps_per_episode - step\n",
    "            if step < min_steps:\n",
    "                min_stepsl.append(step)\n",
    "                reward += 100\n",
    "                min_steps = step\n",
    "            done = True\n",
    "\n",
    "        # Q-value update using the Bellman equation\n",
    "        q_table[state_index, action] = (1 - learning_rate) * q_table[state_index, action] + \\\n",
    "                                      learning_rate * (reward + discount_factor * np.max(q_table[next_state_index, :]))\n",
    "\n",
    "        state = next_state\n",
    "        state_index = next_state_index\n",
    "        episode_reward += reward\n",
    "        if done:\n",
    "            break\n",
    "    steps.append(step+1)\n",
    "    print(f\"Episode {episode} completed with total reward {episode_reward} in {step+1} steps.                                              \", end='\\r')\n",
    "\n"
   ]
  },
  {
   "cell_type": "code",
   "execution_count": null,
   "metadata": {},
   "outputs": [
    {
     "data": {
      "text/plain": [
       "[<matplotlib.lines.Line2D at 0x23613fb17e0>]"
      ]
     },
     "execution_count": 4,
     "metadata": {},
     "output_type": "execute_result"
    },
    {
     "data": {
      "image/png": "[encoded data removed]",
      "text/plain": [
       "<Figure size 432x288 with 1 Axes>"
      ]
     },
     "metadata": {
      "needs_background": "light"
     },
     "output_type": "display_data"
    }
   ],
   "source": [
    "plt.plot(min_stepsl)"
   ]
  },
  {
   "cell_type": "code",
   "execution_count": null,
   "metadata": {},
   "outputs": [
    {
     "data": {
      "text/plain": [
       "[<matplotlib.lines.Line2D at 0x236160e9de0>]"
      ]
     },
     "execution_count": 5,
     "metadata": {},
     "output_type": "execute_result"
    },
    {
     "data": {
      "image/png": "[encoded data removed]",
      "text/plain": [
       "<Figure size 432x288 with 1 Axes>"
      ]
     },
     "metadata": {
      "needs_background": "light"
     },
     "output_type": "display_data"
    }
   ],
   "source": [
    "plt.plot(steps)"
   ]
  },
  {
   "cell_type": "code",
   "execution_count": null,
   "metadata": {},
   "outputs": [
    {
     "data": {
      "text/plain": [
       "<matplotlib.image.AxesImage at 0x2361614e410>"
      ]
     },
     "execution_count": 6,
     "metadata": {},
     "output_type": "execute_result"
    },
    {
     "data": {
      "image/png": "[encoded data removed]",
      "text/plain": [
       "<Figure size 432x288 with 1 Axes>"
      ]
     },
     "metadata": {
      "needs_background": "light"
     },
     "output_type": "display_data"
    }
   ],
   "source": [
    "a = np.zeros(reward_grid.shape)\n",
    "grid = np.zeros(reward_grid.shape)\n",
    "init = (0,0)\n",
    "a[init] = 1\n",
    "step = 1\n",
    "while step < grid.shape[0] * grid.shape[1]:\n",
    "    action = np.argmax(q_table[state_to_index(init)])\n",
    "    if action == 0:\n",
    "        init = (init[0]-1,init[1])\n",
    "    elif action == 1:\n",
    "        init = (init[0]+1,init[1])\n",
    "    elif action == 2:\n",
    "        init = (init[0],init[1]-1)\n",
    "    elif action == 3:\n",
    "        init = (init[0],init[1]+1)\n",
    "    a[init] = 1\n",
    "    grid[init] = step\n",
    "    step += 1\n",
    "plt.imshow(grid)"
   ]
  }
 ],
 "metadata": {
  "kernelspec": {
   "display_name": "Python 3",
   "language": "python",
   "name": "python3"
  },
  "language_info": {
   "codemirror_mode": {
    "name": "ipython",
    "version": 3
   },
   "file_extension": ".py",
   "mimetype": "text/x-python",
   "name": "python",
   "nbconvert_exporter": "python",
   "pygments_lexer": "ipython3",
   "version": "3.10.0"
  },
  "orig_nbformat": 4
 },
 "nbformat": 4,
 "nbformat_minor": 2
}
